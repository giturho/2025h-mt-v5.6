{
 "cells": [
  {
   "cell_type": "code",
   "execution_count": null,
   "id": "a6ffaf86-aaa2-4447-bc55-e7729a6fb02b",
   "metadata": {},
   "outputs": [],
   "source": [
    "rm(list=ls()) # Loeschen aller Variablen und Funktionen\n",
    "options(repr.plot.width = 10, repr.plot.height = 7)"
   ]
  },
  {
   "cell_type": "markdown",
   "id": "36d23e8b-b11e-4b9c-a15c-79d4ceda9c56",
   "metadata": {},
   "source": [
    "In dieser Übung lernen Sie im Kontext der Doppler-freien Spektroskopie ein Anwendung der Autokorrelation und der Kreuzkorrelation kennen. "
   ]
  },
  {
   "cell_type": "markdown",
   "id": "decde381-485a-4e5b-90d1-ae1affc2e56e",
   "metadata": {},
   "source": [
    "# Aufgabe\n",
    "\n",
    "Der Doppler-Effekt führt zu einer Verschiebung der wahrgenommenen Laserfrequenz bei der Anregung von Atomen und Molekülen um\n",
    "<a id='eq:dnu'>\n",
    "\\begin{align}\n",
    "\\Delta \\nu_\\mathrm{D}=\\frac{1}{2 \\pi}\\vec{k}_\\mathrm{Laser}\\cdot\\vec{v}=\\frac{v}{c}\\nu_\\mathrm{Laser}\\cos \\beta, \\tag{1}\n",
    "\\end{align}\n",
    "</a>\n",
    "wobei $\\vec{k}$ den Wellenzahlvektor des Lasers mit Frequenz $\\nu_\\mathrm{Laser}$ bezeichnet und $\\vec{v}$ der Geschwindigkeitsvektor der Teilchen ist, welche sich in einem Winkel $\\beta$ relativ zum Laserstrahl bewegen. Aus Gleichung [(1)](#eq:dnu) wird ersichtlich, dass eine Doppler-Verschiebung proportional zur Geschwindigkeitskomponente der Gasteilchen parallel zum Laserstahl sowie zur Frequenz der Laserstrahlung ist. In der elektronischen Spektroskopie ist man sehr anfällig für den Doppler-Effekt, da $\\nu$ gross ist. Dies äussert sich in der Verbreiterung der Spektrallinien aufgrund der verschiedenen Geschwindigkeiten der Gasteilchen relativ zum Laserstrahl. Zusätzlich zur Verbreiterung der Spektrallinien gibt es eine Verschiebung der Übergangsfrequenz, falls sich der Laserstrahl nicht genau senkrecht zur Gasstrahlachse ausbreitet $(\\beta\\ne90^{\\circ})$ oder die Geschwindigkeitsverteilung asymmetrisch ist."
   ]
  },
  {
   "cell_type": "markdown",
   "id": "f796f491-4852-460c-ba16-1731a1a43e93",
   "metadata": {},
   "source": [
    "In unserer Forschungsgruppe benutzen wir eine Methode, mithilfe derer man Doppler-freie Spektroskopie betreiben kann [[1]](#Ref1). \n",
    "Hierzu werden die Gasteilchen in einer Überschallexpansion ins Vakuum emittiert, wodurch die Atome in einem kollimierten Strahl mit einer wohl definierten Geschwindigkeit fliegen. Der Gasstrahl bildet dabei einen Expansionskegel mit Öffnungswinkel $\\alpha$. Nach einer gewissen Flugstrecke separieren sich die verschiedenen Teile des Gasstrahles aufgrund der verschiedenen Transversalgeschwindigkeiten (Geschwindigkeitskomponente senkrecht zur Achse des Gaskegel) räumlich voneinander. Durch Anregung aller Transversalgeschwindigkeitskomponenten und Detektion dieser Teilchen ohne räumliche Auflösung erscheint ein einzelner Übergang im Spektrum «Doppler-verbreitert» (schwarze Umhüllende im Spektrum bei Abbildung [1](#fig1)(a))."
   ]
  },
  {
   "cell_type": "markdown",
   "id": "cc1ba1fe-681b-48bc-a750-34c6ef056eb0",
   "metadata": {},
   "source": [
    "<a id='fig1'><img src=\"Setup_horizontal_alignment.jpg\" width=100% /><br>\n",
    "Abb. 1: (a) Kreuzt ein Laserstrahl den Gaskegel im rechten Winkel (bezüglich der Achse des Kegels), nehmen die einzelnen Gasteilchen die Laserfrequenz aufgrund des Öffnungswinkels $\\alpha$ des Kegels teils frequenzverschoben wahr. Bewegen sich einzelne Gasteilchen durch ihre Transversalgeschwindigkeit auf die Lichtquelle zu, nehmen diese die Laserfrequenz blauverschoben wahr und der entsprechende Übergang erscheint im Spektrum bei einer tieferen Frequenz, et vice versa. Mithilfe eines ortsaufgelösten Detektors (hier «imaging MCP» Detektor) können nun einzelne Doppler-Komponenten des Übergangs gemessen werden. (b) Durch Einführen eines Winkels $\\beta$ zwischen einfallendem Laserstrahl und dem Gasstrahl sowie anschliessender Rückreflektion des Laserstrahles erscheinen zwei Linien im Spektrum, welche jeweils Doppler-verschoben sind. Die Doppler-freie Frequenz des Übergangs liegt dann in der Mitte der beiden Banden im Spektrum.</a>"
   ]
  },
  {
   "cell_type": "markdown",
   "id": "a5184d8e-6296-4955-a799-28fcfa2edf87",
   "metadata": {},
   "source": [
    "Durch eine räumlich aufgelöste Detektion können nun die einzelnen Transversalgeschwindigkeitskomponenten des Strahles detektiert werden, was die Auflösung der Spektren durch Unterbinden der Doppler-Verbreiterung verbessert (siehe Abbildung [1](#fig1)(a)). Es werden also anstelle eines verbreiterten Spektrums, welche Spektralanteile aller Doppler-Komponenten enthält, mehrere einzelne Spektren gemessen, welche nicht verbreitert sind."
   ]
  },
  {
   "cell_type": "markdown",
   "id": "a0ce287f-b505-4195-9e32-487cb9a6b380",
   "metadata": {},
   "source": [
    "Um eine Übergangsfrequenz zu erhalten, welche nicht durch eine Doppler-Verschiebung beeinflusst wird, wird folgender Trick angewendet: Der Laser wird in einem Winkel $\\beta$, welcher leicht von 90° abweicht, eingestrahlt. Durch eine exakte Rückreflexion um 180° des Lasers werden so zwei Spektrallinien erzeugt, welche um die im Betrag gleiche Doppler-Verschiebung jedoch mit unterschiedlichem Vorzeichen verschoben sind (siehe Abbildung [1](#fig1)(b)). Durch die Frequenzen der zwei Doppler-Komponenten kann auf die exakte Doppler-freie Resonanzfrequenz geschlossen werden."
   ]
  },
  {
   "cell_type": "markdown",
   "id": "258682d5-fbbd-4a8b-a285-b0548abb9cff",
   "metadata": {},
   "source": [
    "Eine Messung wird durchgeführt, indem die Laserfrequenz in $N$ kleinen Schritten $\\Delta \\nu$ abgestimmt wird, also $\\nu_i=\\nu_{\\text{ini}}+i\\Delta\\nu$ mit $i=0,\\dots,N-1$. Das Resultat einer solchen Messung sind also mehrere Spektren $f_j(\\nu_i)$, welche in den einzelnen Detektionsregionen $j$ aufgenommen werden und aus jeweils zwei Doppler-Komponenten bestehen. Der spektrale Abstand der Doppler-Komponenten verändert sich, je nachdem in welcher Region detektiert wird. Diese Übung wird Sie durch den Prozess leiten, wie man ohne Signalverlust ein Doppler-freies Spektrum aus den gemessenen Daten erhalten kann."
   ]
  },
  {
   "cell_type": "markdown",
   "id": "a7a9b097-9e1f-459e-adc6-47efdbfc07ef",
   "metadata": {},
   "source": [
    "## <a id='aa'>a)</a>\n",
    "Lesen sie die Daten aus der Datei «experimental-data.dat» ein und stellen Sie diese in einer geeigneten Weise dar. Die erste Spalte enthält die Übergangsfrequenzen, während die weiteren Spalten die Intensitäten der Spektren enthält, welche in den verschiedenen Detektionsregionen aufgenommen wurden. Die Intensitäten der Signale wurden normiert."
   ]
  },
  {
   "cell_type": "markdown",
   "id": "d28b956e-0972-4c71-ae54-b9e3f79a766e",
   "metadata": {},
   "source": [
    "Überprüfen Sie, dass die Frequenzabstände zwischen benachbarten Punkten in den Spektren konstant ist. Was wären die Folgen, wenn dies nicht der Fall wäre? Wie könnte man einem solchen Fall begegnen?"
   ]
  },
  {
   "cell_type": "code",
   "execution_count": null,
   "id": "23063f77-f65f-45a8-b5b5-220daca2e644",
   "metadata": {},
   "outputs": [],
   "source": [
    "# Hier sollten Sie Ihr Arbeitsverzeichnis eintragen, z.B.:\n",
    "# setwd(\"~/ownCloud/0_Calculation_Servers/2023_GOCA-Cross-Correlation\")\n",
    "\n",
    "# Einlesen der experimentellen Daten:\n",
    "my.data=read.table('experimental-data.dat');\n",
    "\n"
   ]
  },
  {
   "cell_type": "markdown",
   "id": "725d415a-7b99-43e2-a389-74dae80bcbeb",
   "metadata": {},
   "source": [
    "<a id='fig2'><img src=\"A1-Spur.jpg\" width=100% /><br>\n",
    "Abb. 2: Darstellung eines Spektrums.</a>"
   ]
  },
  {
   "cell_type": "markdown",
   "id": "0142f345-95dc-405b-8d76-478c9d5e1d03",
   "metadata": {},
   "source": [
    "*Hinweis:* Jedes Spektrum besteht aus vier Linien (siehe Abbildung [2](#fig2), zwei starken und zwei schwachen Linien. Jeweils eine starke und eine schwache Bande stellen mehrere Feinstrukturkomponenten eines Überganges dar. Das eine Linienpaar entspricht der rotverschobenen, das andere Linienpaar der blauverschobenen Komponente, die durch den Winkel $\\beta$ (siehe Abbildung [1](#fig1)(b)) hervorgerufen werden."
   ]
  },
  {
   "cell_type": "markdown",
   "id": "cfde8102-19c4-4e49-85a1-d6b9889dc5a0",
   "metadata": {},
   "source": [
    "## <a id='ab'>b)</a>\n",
    "Die einzelnen Spektren unterliegen zwar keiner Doppler-Verbreiterung, jedoch ist das Signal-zu-Rausch Verhältnis klein, da nur wenige Atome zu jedem einzelnen Spektrum beitragen. Die Informationen der vielen einzelnen Spektren können in einem einzigen, Doppler-freien Spektrum zusammengefasst werden, welches die gesamte Intensität und Information der Messung enthält. \n",
    "Dafür müssen in einem ersten Schritt die einzelnen Spektren mithilfe der Autokorrelation beziehungsweise der Kreuzkorrelation so manipuliert werden, dass Sie die Information der beiden Doppler-Komponenten in jedem einzelnen Spektrum in einer einzigen Doppler-freien Komponente zusammenfassen können. "
   ]
  },
  {
   "cell_type": "markdown",
   "id": "4169b7a3-0041-459e-a6c7-346c1c06c90d",
   "metadata": {},
   "source": [
    "Aus Abbildung [2](#fig2) können Sie erkennen, dass das Linienpaar zweimal vorkommt. Auch wenn es übertrieben erscheint, hierbei von einer Periodizität zu sprechen, kann der Frequenzabstand $d\\Delta\\nu$ der beiden Bandenmuster leicht bestimmt werden."
   ]
  },
  {
   "cell_type": "markdown",
   "id": "07eaad48-448b-481a-81eb-6b2796abcf9d",
   "metadata": {},
   "source": [
    "Versuchen Sie für jedes Spektrum $j$ den Index-Abstand der beiden Linienpaare $d_j$ zu ermitteln. "
   ]
  },
  {
   "cell_type": "markdown",
   "id": "0526f652-245d-4264-b935-51f701192e64",
   "metadata": {},
   "source": [
    "*Hinweis:* Sie können dies über die Bestimmung der jeweiligen Linienzentren mittels nichtlinearer Kurvenanpassung bewerkstelligen. Alternativ können Sie eine Autokorrelationsmethode verwenden."
   ]
  },
  {
   "cell_type": "markdown",
   "id": "7ac474ab-f4d8-4f24-b8e2-fb4210056a81",
   "metadata": {},
   "source": [
    "Stellen Sie für eines der Spektren die entsprechende Autokorrelation graphisch dar."
   ]
  },
  {
   "cell_type": "code",
   "execution_count": null,
   "id": "c97b538b-9a68-431b-8115-3774c31e4b75",
   "metadata": {},
   "outputs": [],
   "source": []
  },
  {
   "cell_type": "markdown",
   "id": "009b0dda-1168-487c-93e2-9313d3795150",
   "metadata": {},
   "source": [
    "Zur Illustration betrachten wir im Folgenden die Faltung eines Spektrums $f(\\nu_i)$, bestehend aus zwei Gaussfunktionen gleicher Amplitude und Linienbreite mit Linienzentren bei $\\nu_1$ und $-\\nu_1$ (grüne Kurven in Abbildung [3](#fig3)) mit einer Testfunktion $g(\\nu_i)$, bestehend aus zwei Dirac-$\\delta$-Funktionen bei $\\nu_2$ und $-\\nu_2$ (orange Kurven in Abbildung [3](#fig3)). Für den Fall $\\nu_1\\ne\\nu_2$ (Abbildung [3](#fig3) links und rechts) erhält man bei der Faltung vier Linien. Für $\\nu_1=\\nu_2$ (Abbildung [3](#fig3) mitte) erhält man bei der Frequenz $\\nu=0$ eine zentrale Bande mit doppelter Amplitude.\n",
    "\n",
    "<a id='fig2'><img src=\"cross_correlation.jpg\" width=100% /><br>\n",
    "Abb. 3: Spektrum (grün), Testfunktion (orange), Faltung von Spektrum mit Testfunktion (blau).</a>"
   ]
  },
  {
   "cell_type": "markdown",
   "id": "4f417ee8-96e7-4cde-970b-6657554c9c2c",
   "metadata": {},
   "source": [
    "Da man nun den Frequenzabstand der Bandenmuster (Abbildung [2](#fig2)) kennt, kann man eine Doppelpulsfolge ($\\delta$-Pulse) erzeugen, deren Frequenzabstand dem in Aufgabe [b)](#ab) bestimmten Frequenzabstand $d_j\\Delta\\nu$ entspricht."
   ]
  },
  {
   "cell_type": "markdown",
   "id": "539acf40-afd3-4be4-bc29-987daef7293a",
   "metadata": {},
   "source": [
    "## <a id='ac'>c)</a>\n",
    "Erzeugen Sie einen der Testfunktion entsprechenden Datenvektor mit gleicher Vektorlänge, wie das Spektrum."
   ]
  },
  {
   "cell_type": "markdown",
   "id": "8b0038e7-59d4-4377-8264-dbc1ddb6f602",
   "metadata": {},
   "source": [
    "Führen Sie eine Faltung der Spektren mit den jeweiligen Testfunktionen durch und stellen Sie die Resultate graphisch dar (Kreuzkorrelation)."
   ]
  },
  {
   "cell_type": "code",
   "execution_count": null,
   "id": "74383847-b3a4-4adc-aad8-0f7eb98a644b",
   "metadata": {},
   "outputs": [],
   "source": []
  },
  {
   "cell_type": "markdown",
   "id": "92a75428-b88a-46a9-a39c-331eb52c0769",
   "metadata": {},
   "source": [
    "*Hinweis:* Bedenken Sie, dass eine Faltung im Frequenzbereich einer Multiplikation im Zeitbereich entspricht. Ein einfacher Weg ist daher, das Spektrum und die Testfunktion mittels DFT in den Zeitbereich zu transformieren und dort die Vektoren elementweise zu multiplizieren. Das Resultat kann anschliessend wieder mittels DFT in den Frequenzbereich umgerechnet werden."
   ]
  },
  {
   "cell_type": "markdown",
   "id": "2192dbb8-24b5-4ce9-b220-430ec346af52",
   "metadata": {},
   "source": [
    "## <a id='ad'>d)</a>\n",
    "In Aufgabe [c)](#ac) haben Sie Spektren erzeugt, die bei den Doppler-freien Positionen der Übergänge eine Linie aufweisen. Durch Summation all dieser Spektren können Sie das Signal-zu-Rausch-Verhältnis erhöhen und erhalten ein Spektrum mit den Banden bei den Doppler-freien Übergangsfrequenzen."
   ]
  },
  {
   "cell_type": "markdown",
   "id": "8b551fbe-f362-4ebc-9b35-71a489be13b1",
   "metadata": {},
   "source": [
    "Was ist der Ursprung der Seitenbänder?"
   ]
  },
  {
   "cell_type": "code",
   "execution_count": null,
   "id": "a75ab706-b356-402d-b580-839d57db1340",
   "metadata": {},
   "outputs": [],
   "source": []
  },
  {
   "cell_type": "markdown",
   "id": "5315122a-8d39-40f6-a5e7-8585540a953c",
   "metadata": {},
   "source": [
    "## <a id='ae'>e)</a>\n",
    "Bestimmen Sie durch eine geeignete Methode die Doppler-freie Frequenz der beobachteten Banden."
   ]
  },
  {
   "cell_type": "code",
   "execution_count": null,
   "id": "67d0cf7e-b028-4561-80bf-32aad863dfd9",
   "metadata": {},
   "outputs": [],
   "source": []
  },
  {
   "cell_type": "markdown",
   "id": "9f36cd38-d051-48f7-ae07-ad24ae5e07c5",
   "metadata": {},
   "source": [
    "<a id='Ref1'>[1] Gloria Clausen, Simon Scheidegger, Josef A. Agner, Hansjürg Schmutz, and Frédéric Merkt, «Imaging-assisted single-photon Doppler-free laser spectroscopy and the ionization energy of metastable triplet helium», *Phys. Rev. Lett.*, 131(10):103001, 2023.</a>"
   ]
  }
 ],
 "metadata": {
  "affiliation": "IMPS / ETHZ",
  "authors": [
   {
    "name": "goca"
   },
   {
    "name": "urho"
   }
  ],
  "kernelspec": {
   "display_name": "R",
   "language": "R",
   "name": "ir"
  },
  "language_info": {
   "codemirror_mode": "r",
   "file_extension": ".r",
   "mimetype": "text/x-r-source",
   "name": "R",
   "pygments_lexer": "r",
   "version": "4.4.1"
  },
  "latex_metadata": {
   "affiliation": "IMPS / ETHZ",
   "author": "goca/urho",
   "subtitle": "Messtechnik, HS2024",
   "title": "\\\"Ubung 4"
  },
  "subtitle": "Messtechnik, HS2024",
  "title": "Übung 4"
 },
 "nbformat": 4,
 "nbformat_minor": 5
}
