{
 "cells": [
  {
   "cell_type": "markdown",
   "id": "ffab3040-e844-4418-94e2-b3079d3d2192",
   "metadata": {
    "editable": true,
    "slideshow": {
     "slide_type": ""
    },
    "tags": []
   },
   "source": [
    "# Einführung in «R» für wissenschaftliche Zwecke\n",
    "## Einleitung\n",
    "Viele von Ihnen kamen mit «R» bereits in Kontakt — meist im Rahmen der Datenanalyse im Praktikum. Aus diesem Grunde haben wir uns entschlossen, die Übungen in «R» zu gestalten. Es steht Ihnen selbstverständlich frei auch andere Programmiersprachen zu verwenden, wenn Sie sich damit wohler fühlen. In diesen Fällen können wir aber nicht immer Hilfestellung leisten.\n",
    "\n",
    "### Warum «R»?\n",
    "Die Analyse wissenschaftlicher Daten ist (idealerweise) unabhängig von der Wahl der Programme, die Sie verwenden. Dennoch gibt es Programme, deren Verwendung für bestimmte Analysen sinnvoller sind als andere.\n",
    "\n",
    "Ein wichtiger Gesichtspunkt bei der Wahl der Programme mag sein:\n",
    "\n",
    "-   Ist das Programm für jedes Betriebssystem verfügbar?\n",
    "-   Benötigt das Programm eine spezielle Lizenz, welche es mir verunmöglicht die Skripte auch nach Verlassen der ETH noch zu nutzen?\n",
    "-   Gibt es nützliche Zusatzpakete?\n",
    "\n",
    "Vielfach sind Open-Source Software eine optimale Wahl. Nebst [«R»](https://www.r-project.org/) sei hier auch [«python»](https://www.python.org/) als Programmiersprache erwähnt, welche die obigen Voraussetzungen erfüllen. Für beide Sprachen existieren auch geeignete Programmierumgebungen.\n",
    "\n",
    "Viele von Ihnen haben im Falle von «R» die Programmieroberfläche [«rstudio»](https://www.rstudio.com/products/rstudio/) verwendet. Diese ist nicht unpraktisch und in einer Open-Source-Version erhältlich.\n",
    "\n",
    "Es sind auch mannigfaltige Handbücher und Tutorials im Internet verfügbar, z.B. unter <https://education.rstudio.com/>.\n",
    "\n",
    "### Was werden wir in dieser Übung lernen?\n",
    "In dieser Übung wollen wir «R» zur wissenschaftlichen Datenanalyse anwenden und die wichtigsten Befehle lernen, die wir für das Einlesen und die Speicherung von Daten, die Datenmanipulation und die Datenanalyse benötigen werden.\n",
    "\n",
    "## Wie soll man beginnen?\n",
    "Startet man mit einem Projekt ist es sinnvoll, alle vorgängigen Variablen und Funktionen zu löschen. Dies kann man mit dem Befehl `rm(list=ls())` erreichen."
   ]
  },
  {
   "cell_type": "code",
   "execution_count": null,
   "id": "48c879e9-fe50-460a-bbc6-d761f85309c7",
   "metadata": {},
   "outputs": [],
   "source": [
    "rm(list=ls())"
   ]
  },
  {
   "cell_type": "markdown",
   "id": "010b54ba-1f29-4f0f-a680-dc5f8194ff9a",
   "metadata": {},
   "source": [
    "Kommentieren Sie Ihr Programm / Skript. Dies kann man sehr leicht mit dem Raute-Symbol `#` machen.\n",
    "\n",
    "## Variablen und Datentypen\n",
    "Beachten Sie, dass Klein-/Grossschreibung relevant ist. Sie können den Wert durch aufrufen des Variablennamens ausgeben.\n",
    "\n",
    "### Problem:\n",
    "Weisen Sie Ihre Grösse (in Metern) und Ihr Gewicht (in Kilogramm) Variablen zu und geben Sie diese aus."
   ]
  },
  {
   "cell_type": "code",
   "execution_count": null,
   "id": "9d50f99f-7896-4a37-9a58-2d15c5c2b501",
   "metadata": {},
   "outputs": [],
   "source": [
    "groesse = 1.79\n",
    "gewicht = 68.7\n",
    "groesse\n",
    "gewicht"
   ]
  },
  {
   "cell_type": "markdown",
   "id": "80dad917-c9c4-4fb6-8222-3a53edb2f692",
   "metadata": {},
   "source": [
    "## Mathematische Operationen\n",
    "Nebst den mathematischen Grundoperationen `+`, `-`, `*` und `/` gibt es noch weitere Operatoren:\n",
    "\n",
    "-   `^` oder `**` zum Potenzieren (z.B. `a^2` oder `a**2`, etc.)\n",
    "-   `%%` entspricht der Modulo-Division (`1.2 %% 1` ergibt das Resultat `0.2`)\n",
    "-   `%/%` entspricht der ganzzahligen Division (`1.2 %/% 1` ergibt das Resultat `1`)\n",
    "\n",
    "Wendet man diese Operatoren auf Vektoren oder Matrizen an, werden die Operatoren elementweise durchgeführt. Für Vektoren und Matrizen existieren u.a. die Matrixmultiplikation `%*%`.\n",
    "\n",
    "### Beispiel:\n",
    "Berechnen Sie Ihren BMI.\n",
    "\n",
    "-   Definition: $\\mathrm{BMI} = \\frac{\\mathrm{gewicht}}{\\mathrm{groesse}^2}$"
   ]
  },
  {
   "cell_type": "code",
   "execution_count": null,
   "id": "1f01de44-0094-4da9-8a7e-9860a2e1ca0f",
   "metadata": {},
   "outputs": [],
   "source": [
    "groesse = 1.79 # Groesse in Metern\n",
    "gewicht = 68.7 # Gewicht in Kilogramm\n",
    "bmi = gewicht / groesse**2\n",
    "print(bmi)"
   ]
  },
  {
   "cell_type": "code",
   "execution_count": null,
   "id": "f27a5fd2-1599-4800-8b90-cde44a1eb78f",
   "metadata": {},
   "outputs": [],
   "source": [
    "# Aenderung der Groesse oder des Gewichtes aendert den BMI nicht\n",
    "groesse = 1.34\n",
    "print(bmi)"
   ]
  },
  {
   "cell_type": "markdown",
   "id": "d8593d41-e4df-4204-8803-0d1dc28737da",
   "metadata": {},
   "source": [
    "## Funktionen\n",
    "Nebst vielen vordefinierten Funktionen (z.B. `cos`, `sin`, `exp`, `log`, `log10`, etc.) besteht auch die Möglichkeit, eigene Funktionen zu schreiben.\n",
    "\n",
    "*Hinweis*: Beachten Sie, dass in R die Funktionen `log` dem natürlichen Logarithmus «ln» und `log10` den dekadischen Logarithmus «lg» entsprechen.\n",
    "\n",
    "Als Beispiel soll hier die sinc-Funktion erstellt werden, die als $\\mathrm{sinc}(x)=\\frac{\\sin(\\pi x)}{\\pi x}$ definiert ist."
   ]
  },
  {
   "cell_type": "code",
   "execution_count": null,
   "id": "31f89da6-af30-4073-b430-8cef5836b2b9",
   "metadata": {},
   "outputs": [],
   "source": [
    "sinc = function (x) {\n",
    "  x[x==0]=NA\n",
    "  y = sin(pi*x)/(pi*x)\n",
    "  y[is.na(x)]=1;\n",
    "  return(y);\n",
    "}\n",
    "sinc(0.5);"
   ]
  },
  {
   "cell_type": "markdown",
   "id": "5c4b3873-3f3b-4a6f-bb7d-7951e8c1c65c",
   "metadata": {},
   "source": [
    "## Daten Typen\n",
    "\n",
    "-   «double» - reelle Zahl (3.1415)\n",
    "-   «complex» - komplexe Zahl (2.1+0.1i)\n",
    "-   «integer» - ganzzahlige Zahl (3)\n",
    "-   «character» - Text\n",
    "-   «logical» - logischer Wert (TRUE, T, FALSE, F)"
   ]
  },
  {
   "cell_type": "code",
   "execution_count": null,
   "id": "bc2c277f-f960-4137-b6e6-ac56d76dc533",
   "metadata": {},
   "outputs": [],
   "source": [
    "typeof(bmi)\n",
    "x = \"Body Mass Index\"; typeof(x)\n",
    "y = 1.2+0.5i; typeof(y)\n",
    "z = TRUE; typeof(z)"
   ]
  },
  {
   "cell_type": "markdown",
   "id": "eb8964ef-cfd3-4be0-97ab-9f66871512d4",
   "metadata": {},
   "source": [
    "## Listen und Vektoren\n",
    "Oftmals ist es zweckmässig mit Listen, Vektoren und Matrizen zu rechnen. Mit dem Befehl `c()` kann man Elemente zu Listen oder Vektoren kombinieren. Mit `n:m` wird eine Liste aus ganzzahligen Elementen erzeugt, die bei `n` beginnt und in Schritten von 1 und bei `m` endet. Benötigt man einen Vektor, den linear von `n` bis `m` geht, kann dieser mit dem Befehl `seq(from=n,to=m,by=stepsize)` oder `seq(from=n,to=m,length.out=1000)` generiert werden. Mit `rep(x,n)` kann eine Liste erzeugt werden, die `n`-mal das Element `x` enthält."
   ]
  },
  {
   "cell_type": "code",
   "execution_count": null,
   "id": "f7bcf733-3850-4cd5-96b1-cf002805e47e",
   "metadata": {},
   "outputs": [],
   "source": [
    "a = c(1.2, 1.3, 2.4, 1.5); a;\n",
    "b = 2:13; b;\n",
    "c = seq(0,20,by=2); c;\n",
    "d = seq(0,20,length.out=10); d;\n",
    "e = rep(1.2,5); e;"
   ]
  },
  {
   "cell_type": "markdown",
   "id": "9a5e3f21-9ec1-4c9d-b864-5ed0e9d9e108",
   "metadata": {},
   "source": [
    "Die einzelnen Elemente in einem Vektor können mit `e[i]` adressiert werden, hier also das `i`-te Element im Vektor `e`. Die Nummerierung der Elemente in einem Vektor beginnen bei 1.\n",
    "\n",
    "### Leere Elemente\n",
    "Benötigt man leere Elemente, kann dies mit `NA` erzeugt werden"
   ]
  },
  {
   "cell_type": "code",
   "execution_count": null,
   "id": "5d1f50d3-265f-478b-a996-6fd32833b89d",
   "metadata": {},
   "outputs": [],
   "source": [
    "e[2] = NA; e;"
   ]
  },
  {
   "cell_type": "markdown",
   "id": "0840510e-3484-4401-bff4-f8d644ee3f5e",
   "metadata": {},
   "source": [
    "## Logische Operatoren\n",
    "Eine logische Variable hat den Wert `T` (`TRUE`) oder `F` (`FALSE`). Diese Werte erhält man auch, wenn man Vergleiche (`<`, `>`, `<=`, `>=`, `==`, `!=`) anstellt:"
   ]
  },
  {
   "cell_type": "code",
   "execution_count": null,
   "id": "87652f84-7f2a-4943-a451-cadbe7a1e686",
   "metadata": {},
   "outputs": [],
   "source": [
    "1 > 2"
   ]
  },
  {
   "cell_type": "markdown",
   "id": "952d551c-8957-456b-aad6-f7b1b8a57a6f",
   "metadata": {},
   "source": [
    "Man kann auch logische Werte miteinander verknüpfen:\n",
    "\n",
    "-   `&&` — logisches «AND»\n",
    "-   `||` — logisches «OR»\n",
    "-   xor(x,y) — logisches «XOR»\n",
    "-   `!` — logisches «NOT»\n",
    "\n",
    "Möchte man einer Variablem einen bedingten Wert zuordnen, bietet sich der Befehl `ifelse()` an:"
   ]
  },
  {
   "cell_type": "code",
   "execution_count": null,
   "id": "e7b1bdba-a206-4a0d-a404-2824ac92f0a1",
   "metadata": {},
   "outputs": [],
   "source": [
    "a = ifelse( 1<3, \"richtig\", \"falsch\"); a"
   ]
  },
  {
   "cell_type": "markdown",
   "id": "b2ec438a-bc7c-49b0-a4b7-69ae216c6b3b",
   "metadata": {},
   "source": [
    "Man kann auch mit dem Kommando `if()` Bedingungenprogrammieren:"
   ]
  },
  {
   "cell_type": "code",
   "execution_count": null,
   "id": "be863bc5-83d8-43f0-a7cc-d00c0f0af6de",
   "metadata": {},
   "outputs": [],
   "source": [
    "a = 1; b = 2;\n",
    "if( a > b ) {\n",
    "  print('a ist groesser als b.')\n",
    "} else {\n",
    "  print('a ist kleiner oder gleich b.')\n",
    "}"
   ]
  },
  {
   "cell_type": "markdown",
   "id": "cf0c0655-4ccb-4528-a4f5-61081c30bb16",
   "metadata": {},
   "source": [
    "## Schleifen\n",
    "Zur Programmierung gibt es im wesentlichen zwei Arten Schlaufen. Entweder es wird ein vorgegebener Vektor «abgearbeitet» oder Anweisungen werden solange ausgeführt, solange eine bestimmte Bedingung erfüllt ist:"
   ]
  },
  {
   "cell_type": "code",
   "execution_count": null,
   "id": "5211a33a-eeac-44c7-83da-0acf33e86e54",
   "metadata": {},
   "outputs": [],
   "source": [
    "a = 1:3\n",
    "for (i in a) {\n",
    "  print(i)\n",
    "}"
   ]
  },
  {
   "cell_type": "code",
   "execution_count": null,
   "id": "545609b7-cabd-4333-a236-6f2b6e8ca437",
   "metadata": {},
   "outputs": [],
   "source": [
    "i = 1\n",
    "while (i <= 3) {\n",
    "  print(i);\n",
    "  i=i+1\n",
    "}"
   ]
  },
  {
   "cell_type": "markdown",
   "id": "5badb6d3-0b62-4003-ab8e-2957a7777a56",
   "metadata": {},
   "source": [
    "## Matrizen\n",
    "Matrizen können unter anderem mit dem Befehl `matrix(data=NA, nrow=1, ncol=1, byrow=F, dimnames=NULL)`"
   ]
  },
  {
   "cell_type": "code",
   "execution_count": null,
   "id": "def51afa-e203-45be-a1fe-a83be6c0d7f7",
   "metadata": {},
   "outputs": [],
   "source": [
    "m1 = matrix(1:6, nrow=2, ncol=3); m1\n",
    "m2 = matrix(1:6, nrow=2, ncol=3, byrow=T); m2\n",
    "m3 = matrix(1:6, nrow=2, ncol=3, byrow=T, dimnames=list(c('R1','R2'),c('C1','C2','C3'))); m3"
   ]
  },
  {
   "cell_type": "markdown",
   "id": "095c195c-217b-450c-94bc-7edcb7acb5f6",
   "metadata": {},
   "source": [
    "Wurden den Zeilen und Kolonnen keine Namen zugewiesen, können die Elemente mit `m1[2,3]` adressiert werden. Andernfalls können die Elemente mit `m3['R1','C2']` oder `m3[1,2]` aufgerufen werden.\n",
    "\n",
    "## Teilmatrizen\n",
    "Benötigt man nur einen Ausschnitt einer Matrix, kann man die auf verschiedene Arten adressieren:"
   ]
  },
  {
   "cell_type": "code",
   "execution_count": null,
   "id": "4031dd29-72e7-4813-bb7d-b8b92e8797ab",
   "metadata": {},
   "outputs": [],
   "source": [
    "m1 = matrix(1:16, nrow=4, ncol=4, byrow=T); m1\n",
    "m2 = m1[2:3,3:4]; m2"
   ]
  },
  {
   "cell_type": "markdown",
   "id": "fd272388-0764-4acf-b393-9a6b10ee256c",
   "metadata": {},
   "source": [
    "## Manipulieren von Matrizen\n",
    "### Ändern von Elementen\n",
    "Man kann aber auch Elemente direkt ändern. Z.B. wollen wir in der Matrix `m3` alle Elemente auf den Wert -1 setzen, die in der ursprünglichen Matrix grösser waren als 6:"
   ]
  },
  {
   "cell_type": "code",
   "execution_count": null,
   "id": "6b706100-a16d-49eb-87ba-58b5261ecd49",
   "metadata": {},
   "outputs": [],
   "source": [
    "m3 = m1; m3[ m3>6 ] = -1; m3"
   ]
  },
  {
   "cell_type": "markdown",
   "id": "3532dae5-57e0-4f13-b13b-16e783c9de65",
   "metadata": {},
   "source": [
    "### Hinzufügen oder Löschen von Elementen (bzw. Kolonnen oder Zeilen)"
   ]
  },
  {
   "cell_type": "code",
   "execution_count": null,
   "id": "af6a167c-0a38-4177-a3b5-e028bb89a08d",
   "metadata": {},
   "outputs": [],
   "source": [
    "m4 = cbind( m1, c(1:4)); m4\n",
    "m5 = rbind( m1, c(1:4)); m5\n",
    "m6 = m5 [-c(1,3),]; m6"
   ]
  },
  {
   "cell_type": "markdown",
   "id": "4c07c4c2-621a-4228-a486-940dd94e94dc",
   "metadata": {},
   "source": [
    "## Funktionen mit Matrizen (Vektoren) und Matrixoperationen\n",
    "### Funktionen\n",
    "Wie findet man den Maximalwert in einer Matrix? Wie rundet man Matrixelemente (und auch andere Skalare)?"
   ]
  },
  {
   "cell_type": "code",
   "execution_count": null,
   "id": "2c761d83-3436-4b29-9310-e1c735f5f053",
   "metadata": {},
   "outputs": [],
   "source": [
    "m1 = matrix( (1:16)**0.5, nrow=4, ncol=4, byrow=T ); m1\n",
    "m1max = max(m1); \n",
    "m1max.ind = which.max(m1)\n",
    "m1max; \n",
    "m1max.ind; \n",
    "m2 = round(m1, digits=2); m2"
   ]
  },
  {
   "cell_type": "markdown",
   "id": "bbb191ce-a001-4075-8f2a-04cf4e22a798",
   "metadata": {},
   "source": [
    "### Matrixoperationen\n",
    "Die Transponierte einer Matrix:"
   ]
  },
  {
   "cell_type": "code",
   "execution_count": null,
   "id": "4e8b9453-8e59-414a-9806-0172de303786",
   "metadata": {},
   "outputs": [],
   "source": [
    "m3 = t(m2); m3"
   ]
  },
  {
   "cell_type": "markdown",
   "id": "32132822-c69f-49ed-b541-21f911cb900e",
   "metadata": {},
   "source": [
    "Bei der Multiplikation ist Vorsicht geboten: der Operator `*` führt lediglich eine elementweise Multiplikation durch während der Operator `%*%` eine Matrixmultiplikation durchführt:"
   ]
  },
  {
   "cell_type": "code",
   "execution_count": null,
   "id": "09e450ea-1456-4b26-b377-449fef843d8c",
   "metadata": {},
   "outputs": [],
   "source": [
    "m1 = matrix( (1:9), nrow=3, ncol=3, byrow=T ); m1\n",
    "m2 = matrix( (1:9), nrow=3, ncol=3, byrow=T ); m2\n",
    "m3 = m1 * m2; m3\n",
    "m4 = m1 %*% m2; m4"
   ]
  },
  {
   "cell_type": "markdown",
   "id": "14922e6d-b2fe-4c20-ada0-fd07b3e84567",
   "metadata": {},
   "source": [
    "Möchte man die Eigenwerte und Eigenvektoren bestimmen, liesse sich dies wie folgt bewerkstelligen:"
   ]
  },
  {
   "cell_type": "code",
   "execution_count": null,
   "id": "232810ce-a7e3-4757-b472-d536e6def889",
   "metadata": {},
   "outputs": [],
   "source": [
    "eigen(m4)"
   ]
  },
  {
   "cell_type": "markdown",
   "id": "417527c2-cb8c-46d2-98c2-c3edefa42819",
   "metadata": {},
   "source": [
    "## Pakete\n",
    "In R gibt es mannigfaltige Zusatzpakete, die genutzt werden können. Man sollte sich aber immer die Frage stellen, ob man fremden Paketen vertraut. Es ist sicher nicht unsinnvoll, diese zuvor zu testen.\n",
    "\n",
    "### Laden von Paketen\n",
    "Ein Paket mit dem Namen «Dummy» kann man mit dem Befehl `library(dummy)` laden.\n",
    "\n",
    "### Installation von Paketen\n",
    "Existiert das Paket «Dummy» noch nicht auf dem lokalen Rechner, kann dieses mit `install.packages(\"dummy\")` installiert werden.\n",
    "\n",
    "## Graphische Darstellung von Daten\n",
    "### Statische Darstellung von Daten\n",
    "Meist benutzt man die im Basis-Paket von R enthaltene `plot`-Funktion für die Darstellung von Daten:"
   ]
  },
  {
   "cell_type": "code",
   "execution_count": null,
   "id": "f7818004-f8c9-4cc0-8f96-ee1e86784b9b",
   "metadata": {},
   "outputs": [],
   "source": [
    "x=seq(-5,5,by=0.01)\n",
    "y=sinc(x)\n",
    "\n",
    "par( new=F, omd=c(0,1,0,1), mai=c(0.80,0.90,0,0)+0.1, xaxs='r', yaxs='r', las=1 )\n",
    "\n",
    "plot( x, y, type='l', lty=1, lwd=2, col='red', \n",
    "      xlim=c(-3.5,3.5), ylim=c(-0.3,1.1),\n",
    "      xlab='', ylab='', axes=F, frame.plot=T, main='' )\n",
    "abline(v=0, h=0)\n",
    "abline(h=1, lty=2, col='blue', lwd=2)\n",
    "axis( side=1 )\n",
    "mtext( side=1, adj=1, cex=1, bquote(italic(x)), line=2 )\n",
    "axis( side=2, at=c(0,1), lab=c(0,'A') )\n",
    "mtext( side=2, adj=1, cex=1, bquote('sinc('~italic(x)~')'), line=1 )"
   ]
  },
  {
   "cell_type": "markdown",
   "id": "a94d5890-39f4-4a3c-a4e2-aa9d20407c9f",
   "metadata": {},
   "source": [
    "### Interactive Darstellung von Daten\n",
    "Das Paket `plotly` bietet die Möglichkeit, die Daten interaktiv darzustellen, sodass man in die Graphiken reinzoomen kann:\n",
    "\n",
    "*Hinweis*: Die interaktive Darstellung funktioniert nicht in LaTeX oder Word!"
   ]
  },
  {
   "cell_type": "code",
   "execution_count": null,
   "id": "a9c1ca8b-98fb-4c66-adcf-8b7cd7a3c5a2",
   "metadata": {
    "scrolled": true
   },
   "outputs": [],
   "source": [
    "library(plotly, quietly=T, warn.conflicts=F)\n",
    "\n",
    "x=seq(-5,5,by=0.01)\n",
    "y=sinc(x)\n",
    "df=data.frame(x,y)\n",
    "\n",
    "plot_ly(df, x = ~x, y = ~y, type = 'scatter', mode = 'lines')"
   ]
  }
 ],
 "metadata": {
  "affiliation": "IMPS / ETHZ",
  "authors": [
   {
    "name": "feme"
   },
   {
    "name": "urho"
   }
  ],
  "kernelspec": {
   "display_name": "R",
   "language": "R",
   "name": "ir"
  },
  "language_info": {
   "codemirror_mode": "r",
   "file_extension": ".r",
   "mimetype": "text/x-r-source",
   "name": "R",
   "pygments_lexer": "r",
   "version": "4.4.1"
  },
  "latex_metadata": {
   "affiliation": "IMPS / ETHZ",
   "author": "feme/urho",
   "subtitle": "Messtechnik, HS2024",
   "title": "\\\"Ubung 0"
  },
  "subtitle": "Messtechnik, HS2024",
  "title": "Übung 0",
  "toc": {
   "base_numbering": 0
  }
 },
 "nbformat": 4,
 "nbformat_minor": 5
}
