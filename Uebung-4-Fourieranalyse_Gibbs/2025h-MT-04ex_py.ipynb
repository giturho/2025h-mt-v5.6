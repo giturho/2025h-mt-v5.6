{
 "cells": [
  {
   "cell_type": "code",
   "execution_count": null,
   "id": "35920e69-e66c-4130-a490-ac870da8239e",
   "metadata": {},
   "outputs": [],
   "source": [
    "#%%\n",
    "#load packages \n",
    "import numpy as np\n",
    "import matplotlib.pyplot as plt\n",
    "from matplotlib.patches import Arrow"
   ]
  },
  {
   "cell_type": "markdown",
   "id": "8e7d707b-2dc2-4613-ac53-2a4d59bd0e9d",
   "metadata": {},
   "source": [
    "# Fourier-Analyse, Gibbs-Phänomen"
   ]
  },
  {
   "cell_type": "markdown",
   "id": "814fec92-878e-4354-90af-e2c13b3ef4c2",
   "metadata": {},
   "source": [
    "Die in Abbildung [1](#fig1) dargestellte Sägezahnfunktion $x(t)$ soll durch die Fourier-Reihe\n",
    "\\begin{align*}\n",
    "  x(t)&=\\frac{2}{\\pi}\\sum\\limits_{m=1}^{\\infty}-\\frac{1}{m}\\,\\sin(mt)\n",
    "\\end{align*}\n",
    "beschrieben werden."
   ]
  },
  {
   "cell_type": "markdown",
   "id": "229ff909-44d3-414a-bb2b-08e87f868635",
   "metadata": {},
   "source": [
    "<a id='fig1'><img src=\"saegezahn-fkt.png\" width=800 /><br>\n",
    "Abb. 1: Sägezahnfunktion $x(t)$.</a>"
   ]
  },
  {
   "cell_type": "markdown",
   "id": "51f0be44-de97-4986-bf2b-6e06d4b6d218",
   "metadata": {},
   "source": [
    "Erzeugen Sie näherungsweise $x(t)$ im Bereich $-3\\pi < t < 3\\pi$ mit 3, 9, 15 und 55 Termen mit jeweils 8000 Punkten auf der Zeitachse.\n",
    "\n",
    "Kommentieren Sie die Anpassungen und äussern Sie sich zum Gibbs-Phänomen!"
   ]
  },
  {
   "cell_type": "code",
   "execution_count": null,
   "id": "dd84dd6a-57c0-4bf1-9c57-e701e34363e0",
   "metadata": {},
   "outputs": [],
   "source": []
  },
  {
   "cell_type": "markdown",
   "id": "55c8ea62-14c5-4c1e-ae53-ab3072fd8039",
   "metadata": {},
   "source": [
    "# Diskrete Fouriertransformation"
   ]
  },
  {
   "cell_type": "markdown",
   "id": "9d060458-8bee-4338-9ed1-2e4afdedd085",
   "metadata": {},
   "source": [
    "Anhand eines Beispiels aus der NMR-Spektroskopie sollen einige Eigenschaften der diskreten Fourier-Transformation kennengelernt werden.\n",
    "\n",
    "Die Energie $\\Delta E$ und die entsprechende Frequenz $f$ für die Protonenresonanz sind proportional zum Magnetfeld $B_0$\n",
    "\\begin{align}\n",
    "  \\Delta E=hf=\\frac{h}{2\\pi}\\gamma(1-\\sigma)B_0.\n",
    "\\end{align}\n",
    "$\\gamma$ ist das gyromagnetische Verhältnis, das für Protonen $2.675\\,221\\,8744(11)\\times10^{8}\\,\\mathrm{rad\\,s^{-1}\\,T^{-1}}$ beträgt. Die Grösse $\\sigma$ heisst chemische Verschiebung.\n",
    "\n",
    "In der Kernresonanz betrachtet man das ganze Experiment im sogenannten «rotierenden Koordinatensystem», einem mit der Radiofrequenz $f_0$ mitrotierenden System. Für die Messtechnik hat dies zur Folge, dass der das Spinsystem anregende Radiofrequenzpuls (Frequenz $f_0$) durch die umhüllende Rechteckfunktion beschrieben werden kann. Zudem detektiert man so direkt die durch die chemische Verschiebung bewirkte Offsetfrequenz $f_{\\sigma}$,\n",
    "\\begin{align}\n",
    "  f_{\\sigma} = \\sigma f_0 = f_0 - f \n",
    "\\end{align}\n",
    "und nicht die Resonanzfrequenz $f$ (die um ca. 6 Grössenordnungen höher ist)."
   ]
  },
  {
   "cell_type": "markdown",
   "id": "a7a9b097-9e1f-459e-adc6-47efdbfc07ef",
   "metadata": {},
   "source": [
    "## <a id='aa'>a)</a>\n",
    "Welche Stärke muss der NMR-Magnet aufweisen, wenn das Signal von Tetramethylsilan (TMS, $\\sigma \\equiv 0$) bei $f_0=200\\,\\mathrm{MHz}$ beobachtet werden soll? Berechnen Sie die Offsetfrequenz, die einer chemischen Verschiebung von $1\\,\\mathrm{ppm}$ entspricht.\n",
    "\n",
    "Die Datei `fid1.dat` enthält den digitalisierten $^1$H-FID (free induction decay) von Ethylbromid $\\mathrm{CH_3CH_2Br}$, d.h. die Antwort $s(t_i)$, $i = 1...N$, des Spinsystems auf einen kurzen Anregungspuls. Der FID wurde mit einem Abtastintervall von $250\\,\\mu\\mathrm{s}$ über $N = 4096$ Datenpunkte gemessen. Durch Fourier-Transformation des FIDs erhält man das $^1$H-NMR-Frequenzspektrum $S(f_i)$."
   ]
  },
  {
   "cell_type": "code",
   "execution_count": null,
   "id": "727583aa-d23a-4335-802a-ed8b993b7b12",
   "metadata": {},
   "outputs": [],
   "source": []
  },
  {
   "cell_type": "markdown",
   "id": "b0e2963d-599e-407d-8355-a74d21657cad",
   "metadata": {},
   "source": [
    "## <a id='ab'>b)</a>\n",
    "Lesen Sie die Daten des FID ein und stellen Sie die Funktion dar. Welches bekannte Phänomen können Sie erkennen und was lässt sich damit bereits (grob) bestimmen?"
   ]
  },
  {
   "cell_type": "code",
   "execution_count": null,
   "id": "c97b538b-9a68-431b-8115-3774c31e4b75",
   "metadata": {},
   "outputs": [],
   "source": []
  },
  {
   "cell_type": "markdown",
   "id": "61e7da20-002e-4332-bddc-528c2b5dc6e1",
   "metadata": {},
   "source": [
    "## <a id='ac'>c)</a>\n",
    "Bestimmen Sie die Nyquist-Frequenz $f_{\\mathrm N}$ (in Hz) und $\\sigma_{\\mathrm N}$ (in ppm) für die Messdaten. Wie gross ist der Frequenzabstand $\\Delta f=|f_{i+1}-f_{i}|$ aufeinanderfolgender Datenpunkte? Welche Bedeutung haben $f_{\\mathrm N}$ und $\\Delta f$?"
   ]
  },
  {
   "cell_type": "code",
   "execution_count": null,
   "id": "95aa85ee-b75c-4a58-ab58-c639fb072020",
   "metadata": {},
   "outputs": [],
   "source": []
  },
  {
   "cell_type": "markdown",
   "id": "9d8c6196-3b54-483d-83de-029c32d1160b",
   "metadata": {},
   "source": [
    "## <a id='ad'>d)</a>\n",
    "Berechnen Sie das $^1$H-NMR-Spektrum $S(\\sigma_i)$ von Ethylbromid mittels Fourier-Transformation $\\mathcal{F}\\{s(t_i)\\}$ und anschliessende Skalierung. Stellen Sie in dieser und den folgenden Aufgaben jeweils den Realteil des Spektrums dar und beschreiben Sie die nach der Datenmanipulation beobachteten Effekte. Wählen Sie einen Bereich von $0\\,\\mathrm{ppm}$ bis $10\\,\\mathrm{ppm}$ für die chemische Verschiebung.\n",
    "\n",
    "Zeichnen Sie auch die Integrationskurve als Mass für die Intensität der NMR-Übergänge und damit der Zahl der absorbierenden $^1$H-Kerne in der gewohnten Art in das Spektrum ein."
   ]
  },
  {
   "cell_type": "code",
   "execution_count": null,
   "id": "8202ca62-8717-4f8a-8fc0-915aaa547132",
   "metadata": {},
   "outputs": [],
   "source": []
  },
  {
   "cell_type": "markdown",
   "id": "37ef0d72-7d24-4b81-a8b9-9aa3a9dcd6a3",
   "metadata": {},
   "source": [
    "Die nachfolgenden Aufgaben behandeln einige in der diskreten Fouriertransformation gebräuchliche Datenmanipulationen."
   ]
  },
  {
   "cell_type": "markdown",
   "id": "1b7f7208-c587-40fa-b1a5-289aea98d485",
   "metadata": {},
   "source": [
    "## <a id='ae'>e)</a>\n",
    "*Undersampling*: Vergrössern Sie das Abtastintervall des FIDs künstlich um den Faktor $k=2$, $3$, $4$ und $5$. Geben Sie die resultierenden Nyquist-Frequenzen an und diskutieren Sie die Auswirkungen auf das Spektrum. Zeichnen Sie nur den Bereich zwischen $0\\,\\mathrm{ppm}$ und $5\\,\\mathrm{ppm}$."
   ]
  },
  {
   "cell_type": "code",
   "execution_count": null,
   "id": "050bb60c-248d-430f-b09c-9103f0df00c1",
   "metadata": {},
   "outputs": [],
   "source": []
  },
  {
   "cell_type": "markdown",
   "id": "3bcf9042-1907-4101-96cb-89298e9f7758",
   "metadata": {},
   "source": [
    "## <a id='af'>f)</a>\n",
    "*Truncated FID*: Verwenden Sie in dieser Aufgabe nur die ersten $N = 512$ Messpunkte des Originaldatensatzes. Der FID ist, wie man anhand der in Aufgabe [b)]{#ab} dargestellten Daten verifizieren kann, innerhalb dieser Messzeit noch nicht vollständig relaxiert. Welcher Effekt resultiert im Spektrum aus der Transformation des verkürzten Datensatzes?"
   ]
  },
  {
   "cell_type": "code",
   "execution_count": null,
   "id": "9bc7d655-c5f6-4626-af0b-dc1041670c64",
   "metadata": {},
   "outputs": [],
   "source": []
  },
  {
   "cell_type": "markdown",
   "id": "2f418c7b-5b14-4d40-8235-5c2e720c61a6",
   "metadata": {},
   "source": [
    "## <a id='ag'>g)</a>\n",
    "*Matched Filter*: Multiplizieren Sie den in der vorhergehenden Aufgabe erzeugten verkürzten FID mit der exponentiell abfallenden Funktion\n",
    "<a id='eq:apod'>\n",
    "\\begin{align}\n",
    "  a_1(t) = \\exp\\left\\{-\\frac{t}{\\tau}\\right\\}. \\tag{1}\n",
    "\\end{align}\n",
    "</a>\n",
    "Variieren Sie $\\tau$, diskutieren Sie die Auswirkungen auf das Spektrum und gewinnen Sie aus den Darstellungen einen qualitativen Zusammenhang mit der Breite der NMR-Linien."
   ]
  },
  {
   "cell_type": "code",
   "execution_count": null,
   "id": "206e18e1-31dc-4e2d-a3ed-2dbaafcf2626",
   "metadata": {},
   "outputs": [],
   "source": []
  },
  {
   "cell_type": "markdown",
   "id": "a5fd7b97-8e84-4b21-978e-6f95531805df",
   "metadata": {},
   "source": [
    "## <a id='ah'>h)</a>\n",
    "*Zero Filling*: Verlängern Sie den auf $N = 512$ Messpunkte verkürzten und nach Gleichung [(1)](#eq:apod) mit $\\tau=0.025\\,\\mathrm{s}$ apodisierten FID durch Anhängen von Nullen auf (a) 1024, (b) 2048 und (c) 4096 Punkte. Was ergibt sich in den Spektren?\n",
    "\n",
    "Welcher Effekt resultiert, wenn der nicht relaxierte FID mit Nullen verlängert wird?"
   ]
  },
  {
   "cell_type": "code",
   "execution_count": null,
   "id": "88bd8e35-8845-4a73-a410-b8322c926218",
   "metadata": {},
   "outputs": [],
   "source": []
  },
  {
   "cell_type": "markdown",
   "id": "0f67715d-1b1f-44b9-a2ac-ea28b3d556f4",
   "metadata": {},
   "source": [
    "## <a id='ai'>i)</a>\n",
    "*Computer Sharpening*: Die Lorentz-Gauss-Transformation, d.h. die Multiplikation des FIDs mit der Funktion\n",
    "\\begin{align}\n",
    "  a_2(t) = \\exp\\left\\{\\frac{t}{\\tau}\\right\\} \\exp\\left\\{-bt^2\\right\\},\n",
    "\\end{align}\n",
    "ist unter dem Stichwort «computer sharpening» bekannt. Wählen Sie für den in Aufgabe [h)](#ah)(c) mit $\\tau = 0.1\\,\\mathrm{s}$ erzeugten FID den Parameter $b$ so, dass der suggerierte Effekt resultiert."
   ]
  },
  {
   "cell_type": "code",
   "execution_count": null,
   "id": "5b178290-9979-49ea-8c8f-62a6edeb25aa",
   "metadata": {},
   "outputs": [],
   "source": []
  }
 ],
 "metadata": {
  "affiliation": "IMPS / ETHZ",
  "authors": [
   {
    "name": "feme"
   },
   {
    "name": "urho"
   }
  ],
  "kernelspec": {
   "display_name": "Python 3 (ipykernel)",
   "language": "python",
   "name": "python3"
  },
  "language_info": {
   "codemirror_mode": {
    "name": "ipython",
    "version": 3
   },
   "file_extension": ".py",
   "mimetype": "text/x-python",
   "name": "python",
   "nbconvert_exporter": "python",
   "pygments_lexer": "ipython3",
   "version": "3.12.4"
  },
  "latex_metadata": {
   "affiliation": "IMPS / ETHZ",
   "author": "feme/urho",
   "subtitle": "Messtechnik, HS2024",
   "title": "\\\"Ubung 3"
  },
  "subtitle": "Messtechnik, HS2024",
  "title": "Übung 3"
 },
 "nbformat": 4,
 "nbformat_minor": 5
}
