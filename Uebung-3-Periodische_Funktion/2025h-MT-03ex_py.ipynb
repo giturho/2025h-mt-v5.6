{
 "cells": [
  {
   "cell_type": "code",
   "execution_count": null,
   "id": "35920e69-e66c-4130-a490-ac870da8239e",
   "metadata": {},
   "outputs": [],
   "source": [
    "#%%\n",
    "#load packages \n",
    "import numpy as np\n",
    "import matplotlib.pyplot as plt"
   ]
  },
  {
   "cell_type": "markdown",
   "id": "8e7d707b-2dc2-4613-ac53-2a4d59bd0e9d",
   "metadata": {},
   "source": [
    "# Periodische Funktion"
   ]
  },
  {
   "cell_type": "markdown",
   "id": "2766cd1f-9978-499d-bb8e-6f008eaac06e",
   "metadata": {},
   "source": [
    "<a id='fig1'><img src=\"fig-ex-2-aufg-1-1.png\" width=800 /><br>\n",
    "Abb. 1: Darstellung der periodischen Funktion $s(t)$.</a>"
   ]
  },
  {
   "cell_type": "markdown",
   "id": "9d060458-8bee-4338-9ed1-2e4afdedd085",
   "metadata": {},
   "source": [
    "Die Funktion, die in Abbildung [1](#fig) dargestellt ist, ist im Bereich $\\left[-\\frac T2,\\frac T2\\right]$ definiert als\n",
    "<a id='eq:function'>\n",
    "\\begin{align}\n",
    "  s(t)&=\\begin{cases}\n",
    "    0 & \\text{$\\left[-\\frac T2,-\\frac\\tau2\\right]$ und $\\left[\\frac\\tau2,\\frac T2\\right]$} \\\\\n",
    "    A\\left(1-\\frac{4t^2}{\\tau^2}\\right) & \\text{$\\left[-\\frac\\tau2,\\frac\\tau2\\right]$}\n",
    "  \\end{cases} \\tag{1}\n",
    "\\end{align}\n",
    "</a>\n",
    "mit periodischer Wiederholung."
   ]
  },
  {
   "cell_type": "markdown",
   "id": "a7a9b097-9e1f-459e-adc6-47efdbfc07ef",
   "metadata": {},
   "source": [
    "## <a id='aa'>a)</a>\n",
    "Programmieren Sie in R eine Funktion, die den Verlauf der der Gleichung [(1)](#eq:function) beschreibt und stellen Sie diese für $T=1\\,\\mathrm{s}$, $\\tau=0.5\\,\\mathrm{s}$ und $A=1$ im Bereich von $t=-1.5T$ bis $1.5T$ graphisch dar."
   ]
  },
  {
   "cell_type": "code",
   "execution_count": null,
   "id": "727583aa-d23a-4335-802a-ed8b993b7b12",
   "metadata": {},
   "outputs": [],
   "source": []
  },
  {
   "cell_type": "markdown",
   "id": "b0e2963d-599e-407d-8355-a74d21657cad",
   "metadata": {},
   "source": [
    "## <a id='ab'>b)</a>\n",
    "Berechnen Sie die reellen Fourierkoeffizienten $a_n$ und $b_n$ der Funktion $s(t)$ in analytischer Form (nicht in R) sowie numerisch für die Koeffizienten bis $n=10$."
   ]
  },
  {
   "cell_type": "code",
   "execution_count": null,
   "id": "c97b538b-9a68-431b-8115-3774c31e4b75",
   "metadata": {},
   "outputs": [],
   "source": []
  },
  {
   "cell_type": "markdown",
   "id": "61e7da20-002e-4332-bddc-528c2b5dc6e1",
   "metadata": {},
   "source": [
    "## <a id='ac'>c)</a>\n",
    "Beschreiben Sie die beiden Ausdrücke «kontinuierliches Spektrum» und «diskretes Spektrum». Wann erwarten Sie ein kontinuierliches, wann ein diskretes Spektrum?"
   ]
  },
  {
   "cell_type": "code",
   "execution_count": null,
   "id": "95aa85ee-b75c-4a58-ab58-c639fb072020",
   "metadata": {},
   "outputs": [],
   "source": []
  },
  {
   "cell_type": "markdown",
   "id": "9d729e7a-1361-4add-a4c9-40769d224c6c",
   "metadata": {},
   "source": [
    "## <a id='ad'>d)</a>\n",
    "Stellen Sie $\\frac{a_n}{a_0}$ für $\\frac{\\tau}{T}=\\frac{1}{4}$ und $\\frac{\\tau}{T}=\\frac{1}{8}$ graphisch dar. Handelt es sich hier um ein kontinuierliches oder um ein diskretes Spektrum?"
   ]
  },
  {
   "cell_type": "code",
   "execution_count": null,
   "id": "8202ca62-8717-4f8a-8fc0-915aaa547132",
   "metadata": {},
   "outputs": [],
   "source": []
  },
  {
   "cell_type": "markdown",
   "id": "1b7f7208-c587-40fa-b1a5-289aea98d485",
   "metadata": {},
   "source": [
    "## <a id='ae'>e)</a>\n",
    "Stellen Sie die Summen (i) der ersten zehn bzw. (ii) der ersten zwanzig Terme der Fourierreihe der Funktion $s(t)$ graphisch dar. \n",
    "\n",
    "Erwarten Sie bei der Rekonstruktion von $s(t)$ aus den Harmonischen ein Gibbsphänomen? Wenn ja, wo?"
   ]
  },
  {
   "cell_type": "code",
   "execution_count": null,
   "id": "050bb60c-248d-430f-b09c-9103f0df00c1",
   "metadata": {},
   "outputs": [],
   "source": []
  }
 ],
 "metadata": {
  "affiliation": "IMPS / ETHZ",
  "authors": [
   {
    "name": "feme"
   },
   {
    "name": "urho"
   }
  ],
  "kernelspec": {
   "display_name": "Python 3 (ipykernel)",
   "language": "python",
   "name": "python3"
  },
  "language_info": {
   "codemirror_mode": {
    "name": "ipython",
    "version": 3
   },
   "file_extension": ".py",
   "mimetype": "text/x-python",
   "name": "python",
   "nbconvert_exporter": "python",
   "pygments_lexer": "ipython3",
   "version": "3.12.4"
  },
  "latex_metadata": {
   "affiliation": "IMPS / ETHZ",
   "author": "feme/urho",
   "subtitle": "Messtechnik, HS2024",
   "title": "\\\"Ubung 2"
  },
  "subtitle": "Messtechnik, HS2024",
  "title": "Übung 2"
 },
 "nbformat": 4,
 "nbformat_minor": 5
}
